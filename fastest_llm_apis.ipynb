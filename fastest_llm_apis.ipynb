{
  "cells": [
    {
      "cell_type": "markdown",
      "source": [
        "Notebook by [Build Fast with AI](https://www.buildfastwithai.com/genai-course)"
      ],
      "metadata": {
        "id": "p01-3MVFYmZo"
      }
    },
    {
      "cell_type": "markdown",
      "metadata": {
        "id": "Y7vwz1PXYlXG"
      },
      "source": [
        "\n",
        "# Fastest LLM APIs\n",
        "\n",
        "Quick speed test of Llama 3.3 70B model across different providers:\n",
        "- Groq\n",
        "- Cerebras\n",
        "- Sambanova\n",
        "\n",
        "Testing for tokens/sec, latency, and response time using the same prompt."
      ]
    },
    {
      "cell_type": "markdown",
      "source": [
        "[![Open In Colab](https://colab.research.google.com/assets/colab-badge.svg)](https://drive.google.com/file/d/16CJABHvVzc9kJvV--wHOzqfWZRilVkyl/view?usp=sharing)"
      ],
      "metadata": {
        "id": "mJDT7sSPY2GB"
      }
    },
    {
      "cell_type": "code",
      "execution_count": null,
      "metadata": {
        "id": "ATHrd35-YlXJ"
      },
      "outputs": [],
      "source": [
        "!pip install -qU openai"
      ]
    },
    {
      "cell_type": "code",
      "execution_count": null,
      "metadata": {
        "id": "jX-VVLHDYlXK",
        "outputId": "b657ab0e-eeea-4126-e38f-600fd01d061c"
      },
      "outputs": [
        {
          "data": {
            "text/plain": [
              "True"
            ]
          },
          "execution_count": 4,
          "metadata": {},
          "output_type": "execute_result"
        }
      ],
      "source": [
        "import os\n",
        "from dotenv import load_dotenv\n",
        "\n",
        "load_dotenv()"
      ]
    },
    {
      "cell_type": "markdown",
      "metadata": {
        "id": "O17AWcG-YlXL"
      },
      "source": [
        "### Groq"
      ]
    },
    {
      "cell_type": "code",
      "execution_count": null,
      "metadata": {
        "id": "zCWZBQCUYlXM",
        "outputId": "49d1921f-0710-4531-d9bf-8dbfe5e83af8"
      },
      "outputs": [
        {
          "name": "stdout",
          "output_type": "stream",
          "text": [
            "Once upon a time, in a small village nestled in the rolling hills of rural England, there lived a young girl named Emily. Emily was a curious and adventurous child, with a heart full of wonder and a mind full of questions. She loved to explore the world around her, to climb trees, to chase after butterflies, and to watch the clouds drift lazily across the sky.\n",
            "\n",
            "As she grew older, Emily's sense of wonder never faded, but her circumstances changed. Her parents, who had always been kind and supportive, fell on hard times. Her father, a skilled craftsman, lost his job due to the economic downturn, and her mother, a talented seamstress, struggled to make ends meet. The family was forced to live in a small, humble cottage on the outskirts of the village, and Emily's parents worked tirelessly to provide for her and her younger brother.\n",
            "\n",
            "Despite the challenges they faced, Emily's parents encouraged her to pursue her love of learning. They scraped together what little money they had and sent her to the local school, where she excelled in her studies and developed a passion for reading and writing. Emily's favorite subject was history, and she spent hours poring over dusty old books in the school library, learning about the ancient civilizations that had once flourished in the world.\n",
            "\n",
            "As she entered her teenage years, Emily began to feel restless. She felt trapped in the small village, with its narrow streets and limited opportunities. She longed to see the world beyond the hills and valleys of her childhood, to experience the thrill of adventure and the rush of discovery. She spent hours daydreaming about far-off lands and exotic cultures, and she devoured books and stories about brave explorers and daring travelers.\n",
            "\n",
            "One day, when Emily was 16 years old, a stranger arrived in the village. He was a tall, dark-haired man with piercing blue eyes and a charming smile. He introduced himself as Jack, a traveler and adventurer who had been on the road for months. Jack was a skilled storyteller, and he regaled the villagers with tales of his exploits, from climbing mountains to crossing deserts.\n",
            "\n",
            "Emily was immediately drawn to Jack's charismatic personality and his sense of excitement and possibility. She spent hours talking to him, listening to his stories and sharing her own dreams and aspirations. Jack, in turn, was impressed by Emily's intelligence and curiosity, and he saw in her a kindred spirit, a fellow adventurer who was ready to take on the world.\n",
            "\n",
            "As the days passed, Emily and Jack grew closer, and their conversations turned from idle chatter to serious discussions about the future. Jack told Emily about his plans to explore the world, to visit distant lands and to discover hidden treasures. He invited her to join him on his travels, to leave the village behind and to see the world in all its glory.\n",
            "\n",
            "Emily was torn. On the one hand, she was excited at the prospect of adventure, of exploring the unknown and discovering new things. On the other hand, she was scared, scared of the unknown, scared of leaving behind the comfort and security of her family and her village. She didn't know what to do, and she spent many sleepless nights weighing her options and trying to make a decision.\n",
            "\n",
            "Finally, after weeks of indecision, Emily made up her mind. She would leave the village and join Jack on his travels. She knew it wouldn't be easy, and she knew that she would face many challenges along the way. But she also knew that she couldn't stay in the village, not when the world was calling to her, not when adventure and excitement were waiting just beyond the horizon.\n",
            "\n",
            "With a sense of determination and purpose, Emily packed her bags and said goodbye to her family and friends. She set off with Jack, into the unknown, ready to face whatever lay ahead. They traveled to distant lands, visiting ancient ruins and marveling at natural wonders. They met people from all walks of life, from wise old sages to cunning thieves. They encountered danger and difficulty, but they also experienced joy and wonder.\n",
            "\n",
            "As they traveled, Emily grew and changed. She became more confident and self-assured, more capable of handling the challenges that came her way. She learned to navigate unfamiliar places, to speak new languages, and to adapt to different cultures. She discovered hidden strengths and talents, and she developed a sense of resilience and determination that she never knew she had.\n",
            "\n",
            "Years passed, and Emily and Jack traveled the world together. They had their ups and downs, their triumphs and tragedies. But through it all, they remained the best of friends, supporting and encouraging each other as they explored the world and all its wonders.\n",
            "\n",
            "Eventually, after many years of traveling, Emily and Jack decided to settle down. They found a beautiful, secluded spot, surrounded by mountains and forests, and they built a comfortable home. They lived a simple, peaceful life, surrounded by nature and filled with a sense of contentment and fulfillment.\n",
            "\n",
            "Emily never forgot her humble beginnings, and she never lost her sense of wonder and curiosity. She continued to read and learn, to explore and discover, and she passed on her love of adventure and her sense of excitement to her children and grandchildren. And even though she had traveled the world and seen many amazing things, she knew that the greatest adventure of all was the one that she had discovered within herself, the adventure of growing and changing, of learning and exploring, and of living life to the fullest.\n",
            "\n",
            "Years later, when Emily was old and grey, she sat on her porch, surrounded by her loved ones, and she looked out at the world with a sense of pride and accomplishment. She knew that she had lived a full and meaningful life, a life filled with adventure and excitement, with love and laughter, and with a sense of wonder and awe. And as she looked out at the world, she smiled, knowing that she had discovered the greatest treasure of all, the treasure of a life well-lived."
          ]
        }
      ],
      "source": [
        "from openai import OpenAI\n",
        "\n",
        "# Set up the client with Groq's API key\n",
        "client = OpenAI(\n",
        "    api_key=os.getenv(\"GROQ_API_KEY\"),\n",
        "    base_url=\"https://api.groq.com/openai/v1\")\n",
        "\n",
        "# Use the Llama 3.3 70B model\n",
        "completion = client.chat.completions.create(\n",
        "    model=\"llama-3.3-70b-versatile\",\n",
        "    messages=[\n",
        "        {\"role\": \"user\", \"content\": \"Tell me a long story\"}\n",
        "    ],\n",
        "    stream=True,\n",
        ")\n",
        "\n",
        "for chunk in completion:\n",
        "    print(chunk.choices[0].delta.content or \"\", end=\"\")"
      ]
    },
    {
      "cell_type": "markdown",
      "metadata": {
        "id": "80SKymj6YlXM"
      },
      "source": [
        "### Cerebras"
      ]
    },
    {
      "cell_type": "code",
      "execution_count": null,
      "metadata": {
        "id": "txmxYEL2YlXN",
        "outputId": "f3936704-457d-4d5f-99bd-0ada4c5df3d9"
      },
      "outputs": [
        {
          "name": "stdout",
          "output_type": "stream",
          "text": [
            "Once upon a time, in a small village nestled in the rolling hills of the countryside, there lived a young girl named Emily. She was a bright and curious child, with a mop of curly brown hair and a smile that could light up the darkest of rooms. Emily lived with her parents and younger brother, Jack, in a cozy little cottage on the outskirts of the village.\n",
            "\n",
            "As a child, Emily was always fascinated by the stories her grandmother used to tell her. Her grandmother, who lived in a small cottage just across the village green, would regale Emily with tales of magic and adventure, of far-off lands and brave heroes. Emily's imagination would run wild as she listened to these stories, and she would spend hours dreaming of the day when she could have her own adventures.\n",
            "\n",
            "As Emily grew older, her love of stories only deepened. She would spend hours reading books from the village library, devouring tales of fantasy and romance, of mystery and suspense. She was especially fond of the stories of the ancient myths, where gods and goddesses walked among mortals, and magic was a real and powerful force.\n",
            "\n",
            "One day, when Emily was 16 years old, her grandmother fell ill. Emily was devastated, as she had always been incredibly close to her grandmother. She spent every waking moment by her grandmother's side, nursing her and caring for her, and listening to her stories one last time.\n",
            "\n",
            "As her grandmother lay in bed, she called Emily to her side and handed her a small, leather-bound book. \"This was passed down to me from my own grandmother,\" she said, her voice weak but full of love. \"It contains the stories of our family, and the secrets of our past. I want you to have it, Emily, and to use it to guide you on your own journey.\"\n",
            "\n",
            "Emily took the book, feeling a surge of emotion as she held it in her hands. She promised her grandmother that she would treasure it always, and that she would use it to make her proud.\n",
            "\n",
            "As the days passed, Emily's grandmother grew weaker and weaker, until finally, she passed away, surrounded by Emily and her family. Emily was heartbroken, but she knew that her grandmother was at peace, and that she would always be with her in spirit.\n",
            "\n",
            "After the funeral, Emily returned to her own home, feeling lost and alone. She spent hours poring over the book her grandmother had given her, reading the stories and learning about her family's history. As she read, she began to feel a strange sensation, as if the stories were coming alive, and she was being drawn into them.\n",
            "\n",
            "One night, as she was reading, Emily felt a sudden jolt, and she was transported to a different time and place. She found herself standing in a beautiful, moonlit garden, surrounded by trees and flowers that seemed to glow in the dark. A figure approached her, a woman with long, flowing hair and a dress that shimmered like the stars.\n",
            "\n",
            "\"Welcome, Emily,\" the woman said, her voice like music. \"I am your ancestor, and I have been waiting for you. You have been chosen to receive a great gift, one that will allow you to fulfill your dreams and make your heart's desires come true.\"\n",
            "\n",
            "Emily was amazed and a little scared, but she was also curious. She asked the woman what the gift was, and how she was to receive it. The woman smiled and said, \"The gift is the power of storytelling. You have the ability to bring stories to life, to make them real and to use them to change the world. But you must first learn how to harness this power, and to use it for good.\"\n",
            "\n",
            "And with that, Emily's journey began. She spent the next few weeks learning from her ancestor, studying the art of storytelling and learning how to harness her power. She discovered that she could bring characters to life, and create entire worlds with just a few words. She learned how to use her power to help others, to bring joy and happiness into people's lives.\n",
            "\n",
            "As she learned and grew, Emily began to realize that her power was not just a gift, but also a responsibility. She knew that she had to use it wisely, and to always remember the stories of her family and the secrets of her past.\n",
            "\n",
            "Finally, the day came when Emily's training was complete. Her ancestor presented her with a small, delicate box, adorned with intricate carvings and symbols. \"This is the box of stories,\" she said. \"It contains the power of the ancient myths, and the magic of the storytellers. Use it well, Emily, and remember that the stories are always alive, and that they will always guide you on your journey.\"\n",
            "\n",
            "And with that, Emily returned to her own time and place, feeling changed and transformed. She knew that she had been given a great gift, and that she had a responsibility to use it to make the world a better place. She spent the rest of her life telling stories, using her power to bring joy and happiness to those around her. And as she grew older, she passed on the stories of her family to her own children and grandchildren, keeping the legacy of her grandmother and her ancestors alive.\n",
            "\n",
            "Years went by, and Emily became a renowned storyteller, known and loved by people all over the world. She traveled to distant lands, sharing her stories and using her power to help those in need. And though she faced many challenges and obstacles along the way, she never forgot the lessons she had learned from her ancestor, and she always remembered the stories of her family and the secrets of her past.\n",
            "\n",
            "One day, when Emily was old and grey, she sat by the fire, surrounded by her loved ones, and began to tell one final story. It was the story of her own life, of her journey and her adventures, of the power of storytelling and the magic of the ancient myths. As she spoke, the room was filled with a warm, golden light, and the listeners felt themselves being transported to a different time and place.\n",
            "\n",
            "And when Emily finished speaking, the room was silent for a moment, as if the listeners were holding their breath. Then, slowly, they began to applaud, their faces filled with wonder and gratitude. Emily smiled, feeling happy and content, knowing that she had passed on the stories of her family to a new generation, and that the legacy of her grandmother and her ancestors would live on.\n",
            "\n",
            "As the applause died away, Emily's eyes closed, and she felt herself being drawn into the stories once again. She saw her grandmother, and her ancestor, and all the other women who had come before her, each one a thread in the rich tapestry of her family's history. And she knew that she was not just a storyteller, but a part of something much larger, a tradition of women who had used their power to make the world a better place.\n",
            "\n",
            "And with that, Emily's journey came full circle, as she passed on the stories of her family to a new generation, and the magic of the ancient myths lived on, a reminder to always cherish the power of storytelling, and to never forget the secrets of the past."
          ]
        }
      ],
      "source": [
        "from openai import OpenAI\n",
        "import os\n",
        "\n",
        "client = OpenAI(\n",
        "    base_url=\"https://api.cerebras.ai/v1\",\n",
        "    api_key=os.getenv(\"CEREBRAS_API_KEY\"))\n",
        "\n",
        "completion = client.chat.completions.create(\n",
        "    model=\"llama-3.3-70b\",\n",
        "    messages=[\n",
        "        {\n",
        "            \"role\": \"user\",\n",
        "            \"content\": \"Tell me a long story\",\n",
        "        }\n",
        "    ],\n",
        "    stream=True,\n",
        ")\n",
        "\n",
        "for chunk in completion:\n",
        "    print(chunk.choices[0].delta.content or \"\", end=\"\")"
      ]
    },
    {
      "cell_type": "markdown",
      "metadata": {
        "id": "3S4WqOatYlXO"
      },
      "source": [
        "### Sambanova"
      ]
    },
    {
      "cell_type": "code",
      "execution_count": null,
      "metadata": {
        "id": "_IPl1GHdYlXO",
        "outputId": "b9e05e87-1eb8-4920-c5fe-5cda1d41eec9"
      },
      "outputs": [
        {
          "name": "stdout",
          "output_type": "stream",
          "text": [
            "Once upon a time, in a small village nestled in the rolling hills of the countryside, there lived a young girl named Sophia. Sophia was a curious and adventurous child, with a mop of curly brown hair and a smile that could light up the darkest of rooms. She lived with her parents and younger brother in a small cottage on the edge of the village, surrounded by fields of golden wheat and green pastures where cows grazed lazily in the sun.\n",
            "\n",
            "Sophia loved to explore the countryside, and spent hours wandering through the fields and woods, discovering hidden streams and secret glades. She was especially fond of the old oak tree that stood at the edge of the village, its gnarled branches twisted and tangled in a way that seemed almost magical. According to local legend, the oak tree was over a thousand years old, and had been a meeting place for the ancient druids who had once inhabited the land.\n",
            "\n",
            "One day, while out on a walk, Sophia stumbled upon a small, mysterious shop tucked away in a quiet corner of the village. The sign above the door read \"Curios and Wonders,\" and the windows were filled with a dazzling array of strange and exotic objects. Sophia's curiosity was piqued, and she pushed open the door to venture inside.\n",
            "\n",
            "The shop was dimly lit, and the air was thick with the scent of old books and dust. The shelves were crowded with all manner of curious objects, including vintage clocks, rare seashells, and even a taxidermied owl perched on a shelf, watching Sophia with glassy eyes. Behind the counter stood an old man with a long white beard and spectacles perched on the end of his nose. He looked up as Sophia entered, and smiled warmly.\n",
            "\n",
            "\"Welcome to Curios and Wonders, young one,\" he said, his voice low and soothing. \"I am Professor Everwood, the proprietor of this humble establishment. How may I assist you today?\"\n",
            "\n",
            "Sophia wandered the aisles, running her fingers over the strange objects on display. She picked up a small, delicate music box, and wound it up, listening as it played a soft, melancholy tune. She examined a collection of rare, glowing gemstones, and marveled at a beautifully crafted wooden puzzle box.\n",
            "\n",
            "As she explored the shop, Sophia began to notice that many of the objects on display seemed to be... watching her. The taxidermied owl, in particular, seemed to be following her every move, its glassy eyes glinting with a knowing intelligence. Sophia felt a shiver run down her spine, but she couldn't help feeling drawn to the strange and mysterious objects that filled the shop.\n",
            "\n",
            "Professor Everwood noticed Sophia's fascination with the objects, and smiled knowingly. \"You have a keen eye for the unusual, young one,\" he said. \"I think I may have just the thing for you.\"\n",
            "\n",
            "He disappeared into the back room, and emerged with a small, leather-bound book. The cover was adorned with strange symbols and markings, and the pages were filled with handwritten notes and illustrations.\n",
            "\n",
            "\"This is a rare and precious volume,\" Professor Everwood said, his eyes twinkling with excitement. \"It is a journal kept by a young woman named Emily, who lived in this very village over a century ago. She was a curious and adventurous soul, much like yourself, and her journal is filled with tales of magic and wonder.\"\n",
            "\n",
            "Sophia's eyes widened as she took the book from Professor Everwood. She felt a strange connection to the journal, as if it had been waiting for her all along. She opened the cover, and began to read, becoming instantly entranced by the stories and secrets that lay within.\n",
            "\n",
            "As she delved deeper into the journal, Sophia discovered that Emily had been a member of a secret society, dedicated to uncovering the hidden magic that lay just beneath the surface of the everyday world. The society, known as the Order of the Oak, had been founded by a group of druids who had lived in the village centuries ago, and had been tasked with protecting the ancient magic that flowed through the land.\n",
            "\n",
            "Sophia was fascinated by the stories of the Order, and spent hours poring over the journal, learning about the secret rituals and ceremonies that had been performed beneath the branches of the old oak tree. She began to feel a deep connection to the magic of the land, and knew that she had to learn more.\n",
            "\n",
            "Over the next few weeks, Sophia returned to the shop again and again, pouring over the journal and learning as much as she could about the Order of the Oak. Professor Everwood became a mentor to her, teaching her about the history and mythology of the village, and introducing her to other members of the community who shared her passion for magic and wonder.\n",
            "\n",
            "As Sophia delved deeper into the world of magic, she began to notice strange and wondrous things happening around her. She would find flowers blooming in unexpected places, and birds singing in harmony with the music of the spheres. She would feel the pulse of the land beneath her feet, and sense the ancient magic that flowed through the earth.\n",
            "\n",
            "One night, under the light of a full moon, Sophia decided to sneak out of the house and make her way to the old oak tree. She felt drawn to the tree, as if it was calling to her, and she knew that she had to go. As she approached the tree, she felt a strange energy building in the air, and the branches seemed to be reaching out to her like arms.\n",
            "\n",
            "Suddenly, the tree was filled with a soft, ethereal light, and Sophia felt herself being drawn into its heart. She closed her eyes, and let the magic of the land wash over her, feeling the pulse of the earth and the rhythm of the stars.\n",
            "\n",
            "When she opened her eyes again, Sophia found herself in a different time and place. She was standing in a clearing, surrounded by a group of robed figures who were gathered around a glowing stone. The figures turned to her, and Sophia saw that they were the members of the Order of the Oak, gathered to perform a secret ritual.\n",
            "\n",
            "The leader of the Order, a wise and powerful woman named Aria, stepped forward and greeted Sophia. \"Welcome, young one,\" she said. \"We have been waiting for you. You have been chosen to join our Order, and to help us protect the magic of the land.\"\n",
            "\n",
            "Sophia was amazed and honored, and she knew that she had found her true calling. She spent the next few years learning the secrets of the Order, and working to protect the magic of the land. She traveled to distant places, meeting with other members of the Order and learning about the ancient rituals and ceremonies that had been performed for centuries.\n",
            "\n",
            "As she grew older, Sophia became a powerful and respected member of the Order, known for her wisdom and her deep connection to the magic of the land. She lived a long and happy life, surrounded by the beauty and wonder of the natural world, and she never forgot the strange and mysterious shop that had started her on her journey.\n",
            "\n",
            "Years later, when Sophia was old and grey, she would return to the shop, now run by Professor Everwood's grandson. She would sit in the back room, surrounded by the strange and wondrous objects that had started her on her journey, and she would tell stories of her adventures to the young people who came to visit. And as she spoke, the objects on the shelves would seem to come alive, watching her with a knowing intelligence, as if they too remembered the magic of the land, and the secrets that lay just beneath the surface of the everyday world."
          ]
        }
      ],
      "source": [
        "from openai import OpenAI\n",
        "import os\n",
        "\n",
        "api_key = os.environ.get(\"SAMBANOVA_API_KEY\")\n",
        "\n",
        "client = OpenAI(\n",
        "    base_url=\"https://api.sambanova.ai/v1/\",\n",
        "    api_key=api_key)\n",
        "\n",
        "completion = client.chat.completions.create(\n",
        "    model=\"Meta-Llama-3.3-70B-Instruct\",\n",
        "    messages=[\n",
        "        {\n",
        "            \"role\": \"user\",\n",
        "            \"content\": \"Tell me a long story\",\n",
        "        }\n",
        "    ],\n",
        "    stream=True,\n",
        ")\n",
        "\n",
        "for chunk in completion:\n",
        "    print(chunk.choices[0].delta.content or \"\", end=\"\")"
      ]
    },
    {
      "cell_type": "markdown",
      "metadata": {
        "id": "qb2O-j-5YlXP"
      },
      "source": [
        "### Speed and Latency Comparison"
      ]
    },
    {
      "cell_type": "code",
      "execution_count": null,
      "metadata": {
        "id": "pzhEHThTYlXP",
        "outputId": "42c81763-0e9f-4f78-cf37-984d595d2443"
      },
      "outputs": [
        {
          "name": "stdout",
          "output_type": "stream",
          "text": [
            "\n",
            "LLM Performance Comparison:\n",
            "----------------------------------------------------------------------------------------------------\n",
            "Provider     Tokens/sec   First Token  Latency      Completion   Total\n",
            "----------------------------------------------------------------------------------------------------\n",
            "Groq         1,734.4/s    0.005s     0.72s      1,204         1,243\n",
            "Cerebras     1,678.9/s    0.005s     1.01s      1,662         1,702\n",
            "Sambanova    323.5/s    0.212s     4.33s      1,360         1,400\n"
          ]
        }
      ],
      "source": [
        "async def run_llm(name, base_url, api_key, model):\n",
        "    try:\n",
        "        client = OpenAI(\n",
        "            base_url=base_url,\n",
        "            api_key=api_key\n",
        "        )\n",
        "\n",
        "        completion = client.chat.completions.create(\n",
        "            model=model,\n",
        "            messages=[{\"role\": \"user\", \"content\": \"Tell me a long story\"}],\n",
        "        )\n",
        "\n",
        "        # Extract metrics based on provider\n",
        "        if name == \"Cerebras\":\n",
        "            time_info = completion.time_info\n",
        "            metrics = {\n",
        "                'name': name,\n",
        "                'tokens_per_sec': completion.usage.total_tokens / time_info['total_time'],\n",
        "                'time_to_first_token': time_info['prompt_time'],\n",
        "                'total_latency': time_info['total_time'],\n",
        "                'completion_tokens': completion.usage.completion_tokens,\n",
        "                'total_tokens': completion.usage.total_tokens\n",
        "            }\n",
        "        elif name == \"Groq\":\n",
        "            metrics = {\n",
        "                'name': name,\n",
        "                'tokens_per_sec': completion.usage.total_tokens / completion.usage.total_time,\n",
        "                'time_to_first_token': completion.usage.prompt_time,\n",
        "                'total_latency': completion.usage.total_time,\n",
        "                'completion_tokens': completion.usage.completion_tokens,\n",
        "                'total_tokens': completion.usage.total_tokens\n",
        "            }\n",
        "        else:  # Sambanova\n",
        "            metrics = {\n",
        "                'name': name,\n",
        "                'tokens_per_sec': completion.usage.total_tokens_per_sec,\n",
        "                'time_to_first_token': completion.usage.time_to_first_token,\n",
        "                'total_latency': completion.usage.total_latency,\n",
        "                'completion_tokens': completion.usage.completion_tokens,\n",
        "                'total_tokens': completion.usage.total_tokens\n",
        "            }\n",
        "        return metrics\n",
        "    except Exception as e:\n",
        "        print(f\"Error with {name}: {str(e)}\")\n",
        "        return None\n",
        "\n",
        "async def compare_llms():\n",
        "    tasks = [\n",
        "        run_llm(\"Groq\", \"https://api.groq.com/openai/v1\",\n",
        "                os.getenv(\"GROQ_API_KEY\"), \"llama-3.3-70b-specdec\"),\n",
        "        run_llm(\"Cerebras\", \"https://api.cerebras.ai/v1\",\n",
        "                os.getenv(\"CEREBRAS_API_KEY\"), \"llama-3.3-70b\"),\n",
        "        run_llm(\"Sambanova\", \"https://api.sambanova.ai/v1/\",\n",
        "                os.getenv(\"SAMBANOVA_API_KEY\"), \"Meta-Llama-3.3-70B-Instruct\")\n",
        "    ]\n",
        "\n",
        "    results = [r for r in await asyncio.gather(*tasks) if r is not None]\n",
        "\n",
        "    print(\"\\nLLM Performance Comparison:\")\n",
        "    print(\"-\" * 100)\n",
        "    print(f\"{'Provider':<12} {'Tokens/sec':<12} {'First Token':<12} {'Latency':<12} {'Completion':<12} {'Total'}\")\n",
        "    print(\"-\" * 100)\n",
        "\n",
        "    for result in sorted(results, key=lambda x: x['tokens_per_sec'], reverse=True):\n",
        "        print(f\"{result['name']:<12} \"\n",
        "              f\"{result['tokens_per_sec']:,.1f}/s    \"\n",
        "              f\"{result['time_to_first_token']:,.3f}s     \"\n",
        "              f\"{result['total_latency']:,.2f}s      \"\n",
        "              f\"{result['completion_tokens']:,}         \"\n",
        "              f\"{result['total_tokens']:,}\")\n",
        "\n",
        "# Run the comparison\n",
        "await compare_llms()"
      ]
    }
  ],
  "metadata": {
    "kernelspec": {
      "display_name": "Python 3",
      "language": "python",
      "name": "python3"
    },
    "language_info": {
      "codemirror_mode": {
        "name": "ipython",
        "version": 3
      },
      "file_extension": ".py",
      "mimetype": "text/x-python",
      "name": "python",
      "nbconvert_exporter": "python",
      "pygments_lexer": "ipython3",
      "version": "3.10.15"
    },
    "colab": {
      "provenance": []
    }
  },
  "nbformat": 4,
  "nbformat_minor": 0
}